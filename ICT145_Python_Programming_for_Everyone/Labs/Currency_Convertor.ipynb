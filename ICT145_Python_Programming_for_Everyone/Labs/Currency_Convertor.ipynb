{
 "cells": [
  {
   "cell_type": "markdown",
   "id": "4ee5ac4f-9e1b-4861-8ea2-7769ee96cc1a",
   "metadata": {},
   "source": [
    "Create a currency converter which can convert Australian dollars (AUD) to the following \n",
    "currencies:\n",
    "1. Bangladeshi Taka \n",
    "2. Canadian Dollars \n",
    "3. Chinese Yaun \n",
    "4. Euro \n",
    "5. Hong Kong Dollar \n",
    "6. Indian Rupee \n",
    "7. Japanese Yen \n",
    "8. New Zealand Dollar \n",
    "9. Singapore Dollar \n",
    "10. United States Dollar \n",
    "The output of your program should look something like this: \n",
    " \n",
    "Hi! Welcome to Currency Converter! \n",
    "Please enter your name: John \n",
    "Hi John! Please enter the amount (in AUD) you want to convert: 100 \n",
    "Hey John! Please see below the 100 AUD converted in different currencies!"
   ]
  },
  {
   "cell_type": "code",
   "execution_count": 26,
   "id": "799eb9b1-9469-4bb6-bf15-9276d6b1e3d9",
   "metadata": {},
   "outputs": [
    {
     "name": "stdout",
     "output_type": "stream",
     "text": [
      "Hi, Welcome to Currency Converter!\n"
     ]
    },
    {
     "name": "stdin",
     "output_type": "stream",
     "text": [
      "Please enter your name:  Bishop\n"
     ]
    },
    {
     "name": "stdout",
     "output_type": "stream",
     "text": [
      "\n",
      "Hi Bishop!,\n",
      "\n"
     ]
    },
    {
     "name": "stdin",
     "output_type": "stream",
     "text": [
      "Please enter the amount (in AUD) you want to convert:  156.50\n"
     ]
    },
    {
     "name": "stdout",
     "output_type": "stream",
     "text": [
      "\n",
      "Hey Bishop!, Please see below the 156.5 AUD converted in different currencies!\n",
      "\n",
      "Currency\t\tExchange Rate\t\t Australian Dollars\tAmount (in given currency)\n",
      "\t\t\t\t\t\t to be converted\n",
      "Bangladeshi Taka\t1 AUD = 75.18 BDT\t 156.50 AUD\t\t11765.67 BDT\n",
      "Canadian Dollar\t\t1 AUD = 0.89 CAD\t 156.50 AUD\t\t139.28 CAD\n",
      "Chinese Yaun\t\t1 AUD = 4.46 CNY\t 156.50 AUD\t\t697.99 CNY\n",
      "Euro\t\t\t1 AUD = 0.60 EUR\t 156.50 AUD\t\t93.90 EUR\n",
      "Hong Kong Dollar\t1 AUD = 4.84 HKD\t 156.50 AUD\t\t757.46 HKD\n",
      "Indian Rupee\t\t1 AUD = 54.44 INR\t 156.50 AUD\t\t8519.86 INR\n",
      "Japanese Yen\t\t1 AUD = 95.83 JPY\t 156.50 AUD\t\t14997.40 JPY\n",
      "New Zealand Dollar\t1 AUD = 1.10 NZD\t 156.50 AUD\t\t172.15 NZD\n",
      "Singapore Dollar\t1 AUD = 0.85 SGD\t 156.50 AUD\t\t133.03 SGD\n",
      "United States Dollar\t1 AUD = 0.62 USD\t 156.50 AUD\t\t97.03 USD\n",
      "---------------------------------------------------------------------------------\n"
     ]
    }
   ],
   "source": [
    "\"\"\"\n",
    "Currency Converter: Takes AUD currency as input and converts to defined set of currencies\n",
    "and exchange rates. Displays converted currencies in table.\n",
    "    Inputs:\n",
    "        string; personName = name of user\n",
    "        float; amount = amount of currency in AUD to be converted\n",
    "\n",
    "    Calculations:\n",
    "        amount in converted currency = amount in AUD * currency exchange rate\n",
    "        \n",
    "    Output:\n",
    "        display list of currencies in table form.\n",
    "\"\"\"\n",
    "\n",
    "# 1. Declare const currency exchange rates:\n",
    "rateBDT = 75.18\n",
    "rateCAD = 0.89\n",
    "rateCNY = 4.46\n",
    "rateEUR = 0.60\n",
    "rateHKD = 4.84\n",
    "rateINR = 54.44\n",
    "rateJPY = 95.83\n",
    "rateNZD = 1.10\n",
    "rateSGD = 0.85\n",
    "rateUSD = 0.62\n",
    "\n",
    "# 2. Display welcome message\n",
    "print(\"Hi, Welcome to Currency Converter!\")\n",
    "\n",
    "# 3. Get persons name and print to screen\n",
    "personName = input(\"Please enter your name: \")\n",
    "print(f\"\\nHi {personName}!,\\n\")\n",
    "\n",
    "# 4. Get amount in AUD to be converted.\n",
    "amountAUD = float(input(\"Please enter the amount (in AUD) you want to convert: \"))\n",
    "\n",
    "# 5. Calculate converted currencies.\n",
    "\n",
    "convertToBDT = amountAUD * rateBDT\n",
    "convertToCAD = amountAUD * rateCAD\n",
    "convertToCNY = amountAUD * rateCNY\n",
    "convertToEUR = amountAUD * rateEUR\n",
    "convertToHKD = amountAUD * rateHKD\n",
    "convertToINR = amountAUD * rateINR\n",
    "convertToJPY = amountAUD * rateJPY\n",
    "convertToNZD = amountAUD * rateNZD\n",
    "convertToSGD = amountAUD * rateSGD\n",
    "convertToUSD = amountAUD * rateUSD\n",
    "\n",
    "# 6. Display list of converted currencies.\n",
    "\n",
    "print(f\"\\nHey {personName}!, Please see below the {amountAUD} AUD converted in different currencies!\")\n",
    "print(\"\\nCurrency\\t\\tExchange Rate\\t\\t Australian Dollars\\tAmount (in given currency)\")\n",
    "print(\"\\t\\t\\t\\t\\t\\t to be converted\")\n",
    "print(f\"Bangladeshi Taka\\t1 AUD = {rateBDT:.2f} BDT\\t {amountAUD:.2f} AUD\\t\\t{convertToBDT:.2f} BDT\")\n",
    "print(f\"Canadian Dollar\\t\\t1 AUD = {rateCAD:.2f} CAD\\t {amountAUD:.2f} AUD\\t\\t{convertToCAD:.2f} CAD\")\n",
    "print(f\"Chinese Yaun\\t\\t1 AUD = {rateCNY:.2f} CNY\\t {amountAUD:.2f} AUD\\t\\t{convertToCNY:.2f} CNY\")\n",
    "print(f\"Euro\\t\\t\\t1 AUD = {rateEUR:.2f} EUR\\t {amountAUD:.2f} AUD\\t\\t{convertToEUR:.2f} EUR\")\n",
    "print(f\"Hong Kong Dollar\\t1 AUD = {rateHKD:.2f} HKD\\t {amountAUD:.2f} AUD\\t\\t{convertToHKD:.2f} HKD\")\n",
    "print(f\"Indian Rupee\\t\\t1 AUD = {rateINR:.2f} INR\\t {amountAUD:.2f} AUD\\t\\t{convertToINR:.2f} INR\")\n",
    "print(f\"Japanese Yen\\t\\t1 AUD = {rateJPY:.2f} JPY\\t {amountAUD:.2f} AUD\\t\\t{convertToJPY:.2f} JPY\")\n",
    "print(f\"New Zealand Dollar\\t1 AUD = {rateNZD:.2f} NZD\\t {amountAUD:.2f} AUD\\t\\t{convertToNZD:.2f} NZD\")\n",
    "print(f\"Singapore Dollar\\t1 AUD = {rateSGD:.2f} SGD\\t {amountAUD:.2f} AUD\\t\\t{convertToSGD:.2f} SGD\")\n",
    "print(f\"United States Dollar\\t1 AUD = {rateUSD:.2f} USD\\t {amountAUD:.2f} AUD\\t\\t{convertToUSD:.2f} USD\")\n",
    "print(\"---------------------------------------------------------------------------------\")"
   ]
  },
  {
   "cell_type": "code",
   "execution_count": 45,
   "id": "30e47f87-d814-4719-bd69-c08a283881e1",
   "metadata": {},
   "outputs": [
    {
     "name": "stdout",
     "output_type": "stream",
     "text": [
      "Hi, Welcome to Currency Converter!\n"
     ]
    },
    {
     "name": "stdin",
     "output_type": "stream",
     "text": [
      "Please enter your name:  steve\n"
     ]
    },
    {
     "name": "stdout",
     "output_type": "stream",
     "text": [
      "\n",
      "Hi steve!,\n",
      "\n"
     ]
    },
    {
     "name": "stdin",
     "output_type": "stream",
     "text": [
      "Please enter the amount (in AUD) you want to convert:  100\n"
     ]
    },
    {
     "name": "stdout",
     "output_type": "stream",
     "text": [
      "\n",
      "Hey steve!, Please see below the 100.0 AUD converted in different currencies!\n",
      "\n",
      "Currency\t\tExchange Rate\t\t Australian Dollars\tAmount (in given currency)\n",
      "\t\t\t\t\t\t to be converted\n",
      "Bangladeshi Taka\t1 AUD = 75.18 BDT\t 100.00 AUD\t\t7518.00 BDT\n",
      "Canadian Dollar\t\t1 AUD = 0.89 CAD\t 100.00 AUD\t\t89.00 CAD\n",
      "Chinese Yaun\t\t1 AUD = 4.46 CNY\t 100.00 AUD\t\t446.00 CNY\n",
      "Euro\t\t\t1 AUD = 0.60 EUR\t 100.00 AUD\t\t60.00 EUR\n",
      "Hong Kong Dollar\t1 AUD = 4.84 HKD\t 100.00 AUD\t\t484.00 HKD\n",
      "Indian Rupee\t\t1 AUD = 54.44 INR\t 100.00 AUD\t\t5444.00 INR\n",
      "Japanese Yen\t\t1 AUD = 95.83 JPY\t 100.00 AUD\t\t9583.00 JPY\n",
      "New Zealand Dollar\t1 AUD = 1.10 NZD\t 100.00 AUD\t\t110.00 NZD\n",
      "Singapore Dollar\t1 AUD = 0.85 SGD\t 100.00 AUD\t\t85.00 SGD\n",
      "United States Dollar\t1 AUD = 0.62 USD\t 100.00 AUD\t\t62.00 USD\n",
      "---------------------------------------------------------------------------------\n"
     ]
    }
   ],
   "source": [
    "\"\"\"\n",
    "Currency Converter: Takes AUD currency as input and converts to defined set of currencies\n",
    "and exchange rates. Displays converted currencies in table.\n",
    "    Inputs:\n",
    "        string; personName = name of user\n",
    "        float; amount = amount of currency in AUD to be converted\n",
    "\n",
    "    Calculations:\n",
    "        amount in converted currency = amount in AUD * currency exchange rate\n",
    "        \n",
    "    Output:\n",
    "        display list of currencies in table form.\n",
    "\"\"\"\n",
    "\n",
    "# 1. Display welcome message\n",
    "print(\"Hi, Welcome to Currency Converter!\")\n",
    "\n",
    "# 2. Get persons name and print to screen\n",
    "personName = input(\"Please enter your name: \")\n",
    "print(f\"\\nHi {personName}!,\\n\")\n",
    "\n",
    "# 3. Get amount in AUD to be converted.\n",
    "amountAUD = float(input(\"Please enter the amount (in AUD) you want to convert: \"))\n",
    "\n",
    "# Display table headings\n",
    "print(f\"\\nHey {personName}!, Please see below the {amountAUD} AUD converted in different currencies!\")\n",
    "print(\"\\nCurrency\\t\\tExchange Rate\\t\\t Australian Dollars\\tAmount (in given currency)\")\n",
    "print(\"\\t\\t\\t\\t\\t\\t to be converted\")\n",
    "\n",
    "# 5. Declare list of exchange rates\n",
    "exchangeRates = [[\"Bangladeshi Taka\", \"BDT\", 75.18],\n",
    "                [\"Canadian Dollar\", \"CAD\", 0.89],\n",
    "                [\"Chinese Yaun\", \"CNY\", 4.46],\n",
    "                [\"Euro\", \"EUR\", 0.60],\n",
    "                [\"Hong Kong Dollar\", \"HKD\", 4.84],\n",
    "                [\"Indian Rupee\", \"INR\", 54.44],\n",
    "                [\"Japanese Yen\", \"JPY\", 95.83],\n",
    "                [\"New Zealand Dollar\", \"NZD\", 1.10],\n",
    "                [\"Singapore Dollar\", \"SGD\", 0.85],\n",
    "                [\"United States Dollar\", \"USD\", 0.62]]\n",
    "\n",
    "# 6. Calculate converted currencies and display\n",
    "\n",
    "for exchange in exchangeRates:\n",
    "    country = exchange[0]\n",
    "    rateID = exchange[1]\n",
    "    rateAmt = exchange[2]\n",
    "    convertedCurrency = amountAUD * rateAmt\n",
    "    # format number of tabs\n",
    "    if exchange[1] == \"EUR\":\n",
    "        tabs = \"\\t\\t\\t\"\n",
    "    elif exchange[1] in [\"BDT\", \"HKD\", \"NZD\", \"SGD\", \"USD\"]:\n",
    "        tabs = \"\\t\"\n",
    "    elif exchange[1] in [\"CAD\", \"CNY\", \"INR\", \"JPY\"]:\n",
    "        tabs = \"\\t\\t\"\n",
    "    print(f\"{country}{tabs}1 AUD = {rateAmt:.2f} {rateID}\\t {amountAUD:.2f} AUD\\t\\t{convertedCurrency:.2f} {rateID}\")\n",
    "\n",
    "print(\"---------------------------------------------------------------------------------\")"
   ]
  },
  {
   "cell_type": "code",
   "execution_count": 19,
   "id": "7628278b-e11a-4b9c-af1c-c6677bd9bc0f",
   "metadata": {},
   "outputs": [
    {
     "name": "stdout",
     "output_type": "stream",
     "text": [
      "\n",
      "Currency\t\tExchange Rate\t\t Australian Dollars\tAmount (in given currency)\n",
      "\t\t\t\t\t\t to be converted\n",
      "                       |\n",
      "Bangladeshi Taka\t\t1 AUD = 75.1 BDT\t\t100.00 AUD\t\t7510.00BDT\n",
      "Canadian Dollar\t\t1 AUD = 0.89 CAD\t\t100.00 AUD\t\t89.00CAD\n",
      "Chinese Yaun\t\t1 AUD = 4.46 CNY\t\t100.00 AUD\t\t446.00CNY\n",
      "Euro\t\t1 AUD = 0.6 EUR\t\t100.00 AUD\t\t60.00EUR\n",
      "Hong Kong Dollar\t\t1 AUD = 4.84 HKD\t\t100.00 AUD\t\t484.00HKD\n",
      "Indian Rupee\t\t1 AUD = 54.44 INR\t\t100.00 AUD\t\t5444.00INR\n",
      "Japanese Yen\t\t1 AUD = 95.83 JPY\t\t100.00 AUD\t\t9583.00JPY\n",
      "New Zealand Dollar\t\t1 AUD = 1.1 NZD\t\t100.00 AUD\t\t110.00NZD\n",
      "Singapore Dollar\t\t1 AUD = 0.85 SGD\t\t100.00 AUD\t\t85.00SGD\n",
      "United States Dollar\t\t1 AUD = 0.62 USD\t\t100.00 AUD\t\t62.00USD\n",
      "--------------------\n"
     ]
    }
   ],
   "source": [
    "\"\"\"\n",
    "Currency Converter: Takes AUD currency as input and converts to defined set of currencies\n",
    "and exchange rates. Displays converted currencies in table.\n",
    "    Inputs:\n",
    "        string; personName = name of user\n",
    "        float; amount = amount of currency in AUD to be converted\n",
    "\n",
    "    Calculations:\n",
    "        amount in converted currency = amount in AUD * currency exchange rate\n",
    "        \n",
    "    Output:\n",
    "        display list of currencies in table form.\n",
    "\"\"\"\n",
    "\"\"\"\n",
    "# 1. Display welcome message\n",
    "print(\"Hi, Welcome to Currency Converter!\")\n",
    "\n",
    "# 2. Get persons name and print to screen\n",
    "personName = input(\"Please enter your name: \")\n",
    "print(f\"\\nHi {personName}!,\\n\")\n",
    "\n",
    "# 3. Get amount in AUD to be converted.\n",
    "amountAUD = float(input(\"Please enter the amount (in AUD) you want to convert: \"))\n",
    "\n",
    "# Display table headings\n",
    "print(f\"\\nHey {personName}!, Please see below the {amountAUD} AUD converted in different currencies!\")\n",
    "\"\"\"\n",
    "print(\"\\nCurrency\\t\\tExchange Rate\\t\\t Australian Dollars\\tAmount (in given currency)\")\n",
    "print(\"\\t\\t\\t\\t\\t\\t to be converted\")\n",
    "\n",
    "# 5. Declare list of currencies\n",
    "currencies = {\"BDT\": (\"Bangladeshi Taka\", 75.1),\n",
    "              \"CAD\": (\"Canadian Dollar\", 0.89),\n",
    "              \"CNY\": (\"Chinese Yaun\", 4.46),\n",
    "              \"EUR\": (\"Euro\", 0.60),\n",
    "              \"HKD\": (\"Hong Kong Dollar\", 4.84),\n",
    "              \"INR\": (\"Indian Rupee\", 54.44),\n",
    "              \"JPY\": (\"Japanese Yen\", 95.83),\n",
    "              \"NZD\": (\"New Zealand Dollar\", 1.10),\n",
    "              \"SGD\": (\"Singapore Dollar\", 0.85),\n",
    "              \"USD\": (\"United States Dollar\", 0.62)\n",
    "             }\n",
    "\n",
    "# 6. Calculate converted currencies and display\n",
    "print(\" \"*23 + \"|\")\n",
    "for key in currencies.items():\n",
    "    convertedCurrency = 100 * key[1][1]\n",
    "    print(f\"{key[1][0]}\\t\\t1 AUD = {key[1][1]} {key[0]}\\t\\t100.00 AUD\\t\\t{convertedCurrency:.2f}{key[0]}\")\n",
    "\n",
    "print(\"-\"*20)"
   ]
  },
  {
   "cell_type": "code",
   "execution_count": 24,
   "id": "dd6e5c46-8d08-4a02-a637-cd19a761e082",
   "metadata": {},
   "outputs": [
    {
     "name": "stdout",
     "output_type": "stream",
     "text": [
      "                       |\n",
      "Bangladeshi Taka       |\n",
      "16\n"
     ]
    }
   ],
   "source": [
    "print(\" \"*23 + \"|\")\n",
    "print(\"Bangladeshi Taka\" + (\" \"* (23 - len(\"Bangladeshi Taka\"))) + \"|\" )\n",
    "print(len(\"Bangladeshi Taka\"))"
   ]
  },
  {
   "cell_type": "code",
   "execution_count": null,
   "id": "3601875f-eecc-4f3a-9ea9-e0353f8bb19c",
   "metadata": {},
   "outputs": [],
   "source": []
  }
 ],
 "metadata": {
  "kernelspec": {
   "display_name": "Python 3 (ipykernel)",
   "language": "python",
   "name": "python3"
  },
  "language_info": {
   "codemirror_mode": {
    "name": "ipython",
    "version": 3
   },
   "file_extension": ".py",
   "mimetype": "text/x-python",
   "name": "python",
   "nbconvert_exporter": "python",
   "pygments_lexer": "ipython3",
   "version": "3.13.5"
  }
 },
 "nbformat": 4,
 "nbformat_minor": 5
}
